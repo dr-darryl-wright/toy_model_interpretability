{
 "cells": [
  {
   "cell_type": "code",
   "execution_count": 1,
   "id": "40e0bf32",
   "metadata": {},
   "outputs": [],
   "source": [
    "import csv\n",
    "\n",
    "import numpy as np\n",
    "import matplotlib.pyplot as plt"
   ]
  },
  {
   "cell_type": "markdown",
   "id": "ffa08cd4",
   "metadata": {},
   "source": [
    "# penalised model"
   ]
  },
  {
   "cell_type": "code",
   "execution_count": 2,
   "id": "d744c3e5",
   "metadata": {},
   "outputs": [],
   "source": [
    "p = '/home/darryl/dev/LTFF/toy_model_interpretability/my_plots/soft_dot_penalised_model_autoencoder_ReLU_k_1024_batch_13_steps_18_sample_equal_init_bias_0.0_decay_0.0_eps_0.015625_m_64_N_512_reg_0.0/learning_rate_0.01/neurons/activation_count.csv'"
   ]
  },
  {
   "cell_type": "code",
   "execution_count": 3,
   "id": "25a8a7ab",
   "metadata": {},
   "outputs": [],
   "source": [
    "d = []\n",
    "with open(p, 'r') as csvfile:\n",
    "    reader = csv.DictReader(csvfile)\n",
    "    for row in reader:\n",
    "        d.append([int(row['n_activating_single']), int(row['n_activating_all'])])"
   ]
  },
  {
   "cell_type": "code",
   "execution_count": 4,
   "id": "c8d62f51",
   "metadata": {},
   "outputs": [],
   "source": [
    "d = np.array(d)"
   ]
  },
  {
   "cell_type": "code",
   "execution_count": 5,
   "id": "542b217b",
   "metadata": {},
   "outputs": [
    {
     "data": {
      "text/plain": [
       "343"
      ]
     },
     "execution_count": 5,
     "metadata": {},
     "output_type": "execute_result"
    }
   ],
   "source": [
    "np.sum(np.array(np.array(d[:,0] == 0) & np.array(d[:,1] == 0)) == True) # dead"
   ]
  },
  {
   "cell_type": "code",
   "execution_count": 6,
   "id": "bf9448d8",
   "metadata": {},
   "outputs": [
    {
     "data": {
      "text/plain": [
       "398"
      ]
     },
     "execution_count": 6,
     "metadata": {},
     "output_type": "execute_result"
    }
   ],
   "source": [
    "np.sum(np.array(np.array(d[:,0] == 1) & np.array(d[:,1] == 0)) == True) # mono"
   ]
  },
  {
   "cell_type": "code",
   "execution_count": 7,
   "id": "3116312a",
   "metadata": {},
   "outputs": [
    {
     "data": {
      "text/plain": [
       "283"
      ]
     },
     "execution_count": 7,
     "metadata": {},
     "output_type": "execute_result"
    }
   ],
   "source": [
    "np.sum(np.array(d[:,1] > 0)) # poly"
   ]
  },
  {
   "cell_type": "code",
   "execution_count": 8,
   "id": "0bc19633",
   "metadata": {},
   "outputs": [
    {
     "data": {
      "text/plain": [
       "1024"
      ]
     },
     "execution_count": 8,
     "metadata": {},
     "output_type": "execute_result"
    }
   ],
   "source": [
    "88 + 426 + 510"
   ]
  },
  {
   "cell_type": "markdown",
   "id": "70032012",
   "metadata": {},
   "source": [
    "# baseline model"
   ]
  },
  {
   "cell_type": "code",
   "execution_count": 9,
   "id": "e7454d4e",
   "metadata": {},
   "outputs": [],
   "source": [
    "p = '/home/darryl/dev/LTFF/toy_model_interpretability/my_plots/model3_autoencoder_ReLU_k_1024_batch_13_steps_18_sample_equal_init_bias_0.0_decay_0.0_eps_0.015625_m_64_N_512_reg_0.0/learning_rate_0.01/neurons/activation_count.csv'\n",
    "d = []\n",
    "with open(p, 'r') as csvfile:\n",
    "    reader = csv.DictReader(csvfile)\n",
    "    for row in reader:\n",
    "        d.append([int(row['n_activating_single']), int(row['n_activating_all'])])\n",
    "d = np.array(d)"
   ]
  },
  {
   "cell_type": "code",
   "execution_count": 10,
   "id": "656ba554",
   "metadata": {},
   "outputs": [
    {
     "data": {
      "text/plain": [
       "2"
      ]
     },
     "execution_count": 10,
     "metadata": {},
     "output_type": "execute_result"
    }
   ],
   "source": [
    "np.sum(np.array(np.array(d[:,0] == 0) & np.array(d[:,1] == 0)) == True)"
   ]
  },
  {
   "cell_type": "code",
   "execution_count": 11,
   "id": "57d008ce",
   "metadata": {},
   "outputs": [
    {
     "data": {
      "text/plain": [
       "414"
      ]
     },
     "execution_count": 11,
     "metadata": {},
     "output_type": "execute_result"
    }
   ],
   "source": [
    "np.sum(np.array(np.array(d[:,0] == 1) & np.array(d[:,1] == 0)) == True)"
   ]
  },
  {
   "cell_type": "code",
   "execution_count": 12,
   "id": "345d7398",
   "metadata": {},
   "outputs": [
    {
     "data": {
      "text/plain": [
       "570"
      ]
     },
     "execution_count": 12,
     "metadata": {},
     "output_type": "execute_result"
    }
   ],
   "source": [
    "np.sum(np.array(d[:,1] > 0))"
   ]
  },
  {
   "cell_type": "markdown",
   "id": "c9c4928f",
   "metadata": {},
   "source": [
    "# benchmark model"
   ]
  },
  {
   "cell_type": "code",
   "execution_count": 13,
   "id": "0f35284a",
   "metadata": {},
   "outputs": [
    {
     "ename": "FileNotFoundError",
     "evalue": "[Errno 2] No such file or directory: '/home/darryl/dev/LTFF/toy_model_interpretability/my_plots/model3_autoencoder_ReLU_k_1024_batch_13_steps_18_sample_equal_init_bias_-1.0_decay_0.03_eps_0.015625_m_64_N_512_reg_0.0/learning_rate_0.01/neurons/activation_count.csv'",
     "output_type": "error",
     "traceback": [
      "\u001b[0;31m---------------------------------------------------------------------------\u001b[0m",
      "\u001b[0;31mFileNotFoundError\u001b[0m                         Traceback (most recent call last)",
      "\u001b[0;32m/tmp/ipykernel_89822/3389168827.py\u001b[0m in \u001b[0;36m<module>\u001b[0;34m\u001b[0m\n\u001b[1;32m      1\u001b[0m \u001b[0mp\u001b[0m \u001b[0;34m=\u001b[0m \u001b[0;34m'/home/darryl/dev/LTFF/toy_model_interpretability/my_plots/model3_autoencoder_ReLU_k_1024_batch_13_steps_18_sample_equal_init_bias_-1.0_decay_0.03_eps_0.015625_m_64_N_512_reg_0.0/learning_rate_0.01/neurons/activation_count.csv'\u001b[0m\u001b[0;34m\u001b[0m\u001b[0;34m\u001b[0m\u001b[0m\n\u001b[1;32m      2\u001b[0m \u001b[0md\u001b[0m \u001b[0;34m=\u001b[0m \u001b[0;34m[\u001b[0m\u001b[0;34m]\u001b[0m\u001b[0;34m\u001b[0m\u001b[0;34m\u001b[0m\u001b[0m\n\u001b[0;32m----> 3\u001b[0;31m \u001b[0;32mwith\u001b[0m \u001b[0mopen\u001b[0m\u001b[0;34m(\u001b[0m\u001b[0mp\u001b[0m\u001b[0;34m,\u001b[0m \u001b[0;34m'r'\u001b[0m\u001b[0;34m)\u001b[0m \u001b[0;32mas\u001b[0m \u001b[0mcsvfile\u001b[0m\u001b[0;34m:\u001b[0m\u001b[0;34m\u001b[0m\u001b[0;34m\u001b[0m\u001b[0m\n\u001b[0m\u001b[1;32m      4\u001b[0m     \u001b[0mreader\u001b[0m \u001b[0;34m=\u001b[0m \u001b[0mcsv\u001b[0m\u001b[0;34m.\u001b[0m\u001b[0mDictReader\u001b[0m\u001b[0;34m(\u001b[0m\u001b[0mcsvfile\u001b[0m\u001b[0;34m)\u001b[0m\u001b[0;34m\u001b[0m\u001b[0;34m\u001b[0m\u001b[0m\n\u001b[1;32m      5\u001b[0m     \u001b[0;32mfor\u001b[0m \u001b[0mrow\u001b[0m \u001b[0;32min\u001b[0m \u001b[0mreader\u001b[0m\u001b[0;34m:\u001b[0m\u001b[0;34m\u001b[0m\u001b[0;34m\u001b[0m\u001b[0m\n",
      "\u001b[0;31mFileNotFoundError\u001b[0m: [Errno 2] No such file or directory: '/home/darryl/dev/LTFF/toy_model_interpretability/my_plots/model3_autoencoder_ReLU_k_1024_batch_13_steps_18_sample_equal_init_bias_-1.0_decay_0.03_eps_0.015625_m_64_N_512_reg_0.0/learning_rate_0.01/neurons/activation_count.csv'"
     ]
    }
   ],
   "source": [
    "p = '/home/darryl/dev/LTFF/toy_model_interpretability/my_plots/model3_autoencoder_ReLU_k_1024_batch_13_steps_18_sample_equal_init_bias_-1.0_decay_0.03_eps_0.015625_m_64_N_512_reg_0.0/learning_rate_0.01/neurons/activation_count.csv'\n",
    "d = []\n",
    "with open(p, 'r') as csvfile:\n",
    "    reader = csv.DictReader(csvfile)\n",
    "    for row in reader:\n",
    "        d.append([int(row['n_activating_single']), int(row['n_activating_all'])])\n",
    "d = np.array(d)"
   ]
  },
  {
   "cell_type": "code",
   "execution_count": null,
   "id": "4955b05e",
   "metadata": {},
   "outputs": [],
   "source": []
  }
 ],
 "metadata": {
  "kernelspec": {
   "display_name": "Python 3 (ipykernel)",
   "language": "python",
   "name": "python3"
  },
  "language_info": {
   "codemirror_mode": {
    "name": "ipython",
    "version": 3
   },
   "file_extension": ".py",
   "mimetype": "text/x-python",
   "name": "python",
   "nbconvert_exporter": "python",
   "pygments_lexer": "ipython3",
   "version": "3.10.12"
  }
 },
 "nbformat": 4,
 "nbformat_minor": 5
}
