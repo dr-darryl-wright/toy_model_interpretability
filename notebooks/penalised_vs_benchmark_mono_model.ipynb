{
 "cells": [
  {
   "cell_type": "code",
   "execution_count": 1,
   "id": "fa6666c5",
   "metadata": {},
   "outputs": [],
   "source": [
    "import sys\n",
    "import torch\n",
    "import itertools\n",
    "\n",
    "import numpy as np\n",
    "import torch.nn as nn\n",
    "import matplotlib.pyplot as plt\n",
    "\n",
    "from copy import deepcopy\n",
    "from collections import Counter\n",
    "from matplotlib.gridspec import GridSpec\n",
    "from matplotlib.ticker import NullFormatter\n",
    "\n",
    "sys.path.insert(0, '/home/darryl/dev/LTFF/toy_model_interpretability')\n",
    "from model_helper import *"
   ]
  },
  {
   "cell_type": "code",
   "execution_count": 2,
   "id": "f7333d2c",
   "metadata": {},
   "outputs": [],
   "source": [
    "# Reconstruct the model\n",
    "def model_builder(N, m, k, nonlinearity):\n",
    "    if nonlinearity == 'ReLU':\n",
    "        activation = nn.ReLU()\n",
    "    elif nonlinearity == 'GeLU':\n",
    "        activation = nn.GELU()\n",
    "    elif nonlinearity == 'SoLU':\n",
    "        activation = lambda x: x*torch.exp(x)    \n",
    "    \n",
    "    model = torch.nn.Sequential(\n",
    "                nn.Linear(m, k, bias=True),\n",
    "                activation,\n",
    "                nn.Linear(k, N, bias=False)\n",
    "            )\n",
    "    return model"
   ]
  },
  {
   "cell_type": "code",
   "execution_count": 3,
   "id": "dc73cbe3",
   "metadata": {},
   "outputs": [],
   "source": [
    "def loss_func(batch_size, outputs, vectors):\n",
    "    loss = np.sum((outputs - vectors)**2) / batch_size\n",
    "    return loss"
   ]
  },
  {
   "cell_type": "code",
   "execution_count": 4,
   "id": "c7079bc2",
   "metadata": {},
   "outputs": [],
   "source": [
    "def sample_vectors_equal(N: int, eps: float, batch_size: int, embedder):\n",
    "    \"\"\"\n",
    "        Generates random uniform vectors in a tensor of shape (N,batch_size)\n",
    "        with sparsity 1-eps. These are returned as v.\n",
    "\n",
    "        Applies embedding matrix to v to produce a low-dimensional embedding,\n",
    "        returned as x.\n",
    "    \"\"\"\n",
    "\n",
    "    v = torch.rand((int(batch_size), int(N)))\n",
    "    \n",
    "    compare = eps * torch.ones((int(batch_size), int(N)))\n",
    "    sparsity = torch.bernoulli(compare)\n",
    "            \n",
    "    v *= sparsity\n",
    "    x = torch.matmul(v,embedder.T) # Embeds features in a low-dimensional space\n",
    "\n",
    "    return v, x"
   ]
  },
  {
   "cell_type": "markdown",
   "id": "ec7a90a4",
   "metadata": {},
   "source": [
    "# Benchmark - single feature inputs of unit amplitude"
   ]
  },
  {
   "cell_type": "code",
   "execution_count": 5,
   "id": "3f820bbf",
   "metadata": {},
   "outputs": [],
   "source": [
    "model = 'model3'\n",
    "# model='soft_dot_penalised_model'\n",
    "k = 1024 # size of nonlinear layer\n",
    "log2_batch_size = 13\n",
    "log2_training_steps = 18\n",
    "sample_kind = 'equal'\n",
    "init_bias = -1.0\n",
    "nonlinearity = 'ReLU'\n",
    "task = 'autoencoder'\n",
    "decay = 0.03\n",
    "eps = 0.015625\n",
    "m = 64 # input dimensions\n",
    "N = 512 # number of features\n",
    "reg = 0.0\n",
    "# lr = 0.001\n",
    "lrs = [0.001,0.003,0.005,0.007,0.01,0.03]"
   ]
  },
  {
   "cell_type": "code",
   "execution_count": 6,
   "id": "7e43238c",
   "metadata": {},
   "outputs": [
    {
     "name": "stdout",
     "output_type": "stream",
     "text": [
      "[0.001, 0.003, 0.005, 0.007, 0.01, 0.03]\n"
     ]
    }
   ],
   "source": [
    "print(lrs)\n",
    "\n",
    "# Load and process data\n",
    "names = list([\n",
    "    f\"../my_models/{model}_{task}_{nonlinearity}_k_{k}_batch_{log2_batch_size}_steps_{log2_training_steps}_learning_rate_{lr}_sample_{sample_kind}_init_bias_{init_bias}_decay_{decay}_eps_{eps}_m_{m}_N_{N}_reg_{reg}.pt\"\n",
    "    for lr in lrs\n",
    "])\n",
    "ReLU_equal_lr_sweep = []\n",
    "for n in names:\n",
    "    try:\n",
    "        ReLU_equal_lr_sweep.append(torch.load(n, map_location=torch.device('cpu')))\n",
    "    except FileNotFoundError:\n",
    "        print(n,'not found')"
   ]
  },
  {
   "cell_type": "code",
   "execution_count": 7,
   "id": "aba4ec7c",
   "metadata": {
    "scrolled": false
   },
   "outputs": [],
   "source": [
    "brs = []\n",
    "bls = []\n",
    "bmls = []\n",
    "for batch in ReLU_equal_lr_sweep:\n",
    "    fixed_embedder = batch['setup']['fixed_embedder']\n",
    "    d = batch['log2_spaced_models'][-1]\n",
    "\n",
    "    model = model_builder(d['2.weight'].shape[0], d['0.weight'].shape[1], d['0.weight'].shape[0], batch['nonlinearity'])\n",
    "    model.load_state_dict(batch['log2_spaced_models'][-1])\n",
    "    model.to('cpu')\n",
    "    \n",
    "    sfa = single_feature_activations(d, batch, batch['setup'])\n",
    "    unit_sfa = np.array(sfa > 0.0, dtype='int')\n",
    "\n",
    "    where_poly = np.where(np.sum(unit_sfa, axis=-1) > 1)[0]\n",
    "    mono_d = deepcopy(batch['log2_spaced_models'][-1])\n",
    "    mono_d['0.weight'][where_poly, :] *= 0\n",
    "    mono_d['0.bias'][where_poly] *= 0\n",
    "    mono_model = model_builder(d['2.weight'].shape[0], d['0.weight'].shape[1],\n",
    "                               d['0.weight'].shape[0], batch['nonlinearity'])\n",
    "    mono_model.load_state_dict(mono_d)\n",
    "    mono_model.to('cpu')\n",
    "\n",
    "    where_mono = np.where(np.sum(unit_sfa, axis=-1) == 1)[0]\n",
    "    poly_d = deepcopy(batch['log2_spaced_models'][-1])\n",
    "    poly_d['0.weight'][where_mono, :] *= 0\n",
    "    poly_d['0.bias'][where_mono] *= 0\n",
    "    poly_model = model_builder(d['2.weight'].shape[0], d['0.weight'].shape[1],\n",
    "                               d['0.weight'].shape[0], batch['nonlinearity'])\n",
    "    poly_model.load_state_dict(poly_d)\n",
    "    poly_model.to('cpu')\n",
    "    \n",
    "#     full_os = []\n",
    "#     mono_os = []\n",
    "#     poly_os = []\n",
    "#     step_size = .01\n",
    "#     for a in np.arange(0, 1 + step_size, step_size):\n",
    "    vs = torch.eye(N)\n",
    "#     vs = torch.eye(N) * a\n",
    "    ins = torch.matmul(vs, fixed_embedder.T)\n",
    "#         full_os.append(model.forward(ins).T.detach().numpy())\n",
    "#         mono_os.append(mono_model.forward(ins).T.detach().numpy())\n",
    "#         poly_os.append(poly_model.forward(ins).T.detach().numpy())\n",
    "    brs.append((model.forward(ins).detach().numpy(),\n",
    "              mono_model.forward(ins).detach().numpy(),\n",
    "              poly_model.forward(ins).detach().numpy()))\n",
    "    bls.append(loss_func(N, model.forward(ins).detach().numpy(), vs.detach().numpy()))\n",
    "    bmls.append(loss_func(N, mono_model.forward(ins).detach().numpy(), vs.detach().numpy()))"
   ]
  },
  {
   "cell_type": "code",
   "execution_count": 8,
   "id": "5089cfb4",
   "metadata": {},
   "outputs": [
    {
     "data": {
      "text/plain": [
       "[0.011439724825322628,\n",
       " 0.013296583667397499,\n",
       " 0.01431959681212902,\n",
       " 0.015047798864543438,\n",
       " 0.017271945253014565,\n",
       " 0.023196997120976448]"
      ]
     },
     "execution_count": 8,
     "metadata": {},
     "output_type": "execute_result"
    }
   ],
   "source": [
    "bls"
   ]
  },
  {
   "cell_type": "code",
   "execution_count": 9,
   "id": "7f615a9e",
   "metadata": {},
   "outputs": [
    {
     "data": {
      "text/plain": [
       "[0.2028513252735138,\n",
       " 0.2352994829416275,\n",
       " 0.2698226571083069,\n",
       " 0.23689046502113342,\n",
       " 0.2543613314628601,\n",
       " 0.20651380717754364]"
      ]
     },
     "execution_count": 9,
     "metadata": {},
     "output_type": "execute_result"
    }
   ],
   "source": [
    "bmls"
   ]
  },
  {
   "cell_type": "markdown",
   "id": "007c6dd6",
   "metadata": {},
   "source": [
    "# Penalised - single feature inputs of unit amplitude"
   ]
  },
  {
   "cell_type": "code",
   "execution_count": 10,
   "id": "3405bc80",
   "metadata": {},
   "outputs": [],
   "source": [
    "model = 'soft_dot_penalised_model'\n",
    "init_bias = 0.0\n",
    "decay = 0.0"
   ]
  },
  {
   "cell_type": "code",
   "execution_count": 11,
   "id": "833049d9",
   "metadata": {},
   "outputs": [
    {
     "name": "stdout",
     "output_type": "stream",
     "text": [
      "[0.001, 0.003, 0.005, 0.007, 0.01, 0.03]\n"
     ]
    }
   ],
   "source": [
    "print(lrs)\n",
    "\n",
    "# Load and process data\n",
    "names = list([\n",
    "    f\"../my_models/{model}_{task}_{nonlinearity}_k_{k}_batch_{log2_batch_size}_steps_{log2_training_steps}_learning_rate_{lr}_sample_{sample_kind}_init_bias_{init_bias}_decay_{decay}_eps_{eps}_m_{m}_N_{N}_reg_{reg}.pt\"\n",
    "    for lr in lrs\n",
    "])\n",
    "ReLU_equal_lr_sweep = []\n",
    "for n in names:\n",
    "    try:\n",
    "        ReLU_equal_lr_sweep.append(torch.load(n, map_location=torch.device('cpu')))\n",
    "    except FileNotFoundError:\n",
    "        print(n,'not found')"
   ]
  },
  {
   "cell_type": "code",
   "execution_count": 12,
   "id": "4e2d1d45",
   "metadata": {},
   "outputs": [],
   "source": [
    "pls = []\n",
    "pmls = []\n",
    "for batch in ReLU_equal_lr_sweep:\n",
    "    fixed_embedder = batch['setup']['fixed_embedder']\n",
    "    d = batch['log2_spaced_models'][-1]\n",
    "\n",
    "    model = model_builder(d['2.weight'].shape[0], d['0.weight'].shape[1], d['0.weight'].shape[0], batch['nonlinearity'])\n",
    "    model.load_state_dict(batch['log2_spaced_models'][-1])\n",
    "    model.to('cpu')\n",
    "    \n",
    "    sfa = single_feature_activations(d, batch, batch['setup'])\n",
    "    unit_sfa = np.array(sfa > 0.0, dtype='int')\n",
    "\n",
    "    where_poly = np.where(np.sum(unit_sfa, axis=-1) > 1)[0]\n",
    "    mono_d = deepcopy(batch['log2_spaced_models'][-1])\n",
    "    mono_d['0.weight'][where_poly, :] *= 0\n",
    "    mono_d['0.bias'][where_poly] *= 0\n",
    "    mono_model = model_builder(d['2.weight'].shape[0], d['0.weight'].shape[1],\n",
    "                               d['0.weight'].shape[0], batch['nonlinearity'])\n",
    "    mono_model.load_state_dict(mono_d)\n",
    "    mono_model.to('cpu')\n",
    "    \n",
    "    vs = torch.eye(N)\n",
    "    ins = torch.matmul(vs, fixed_embedder.T)\n",
    "    pls.append(loss_func(N, model.forward(ins).detach().numpy(), vs.detach().numpy()))\n",
    "    pmls.append(loss_func(N, mono_model.forward(ins).detach().numpy(), vs.detach().numpy()))"
   ]
  },
  {
   "cell_type": "code",
   "execution_count": 13,
   "id": "89a57ae0",
   "metadata": {},
   "outputs": [
    {
     "data": {
      "text/plain": [
       "[0.040988773107528687,\n",
       " 0.01969296671450138,\n",
       " 0.014535415917634964,\n",
       " 0.017794741317629814,\n",
       " 0.022493889555335045,\n",
       " 1.0]"
      ]
     },
     "execution_count": 13,
     "metadata": {},
     "output_type": "execute_result"
    }
   ],
   "source": [
    "pls"
   ]
  },
  {
   "cell_type": "code",
   "execution_count": 14,
   "id": "d5247362",
   "metadata": {},
   "outputs": [
    {
     "data": {
      "text/plain": [
       "[0.040988773107528687,\n",
       " 0.01969296671450138,\n",
       " 0.014535415917634964,\n",
       " 0.017794741317629814,\n",
       " 0.022493889555335045,\n",
       " 1.0]"
      ]
     },
     "execution_count": 14,
     "metadata": {},
     "output_type": "execute_result"
    }
   ],
   "source": [
    "pmls"
   ]
  },
  {
   "cell_type": "code",
   "execution_count": 15,
   "id": "9907846f",
   "metadata": {},
   "outputs": [
    {
     "data": {
      "text/plain": [
       "0.21674389503896235"
      ]
     },
     "execution_count": 15,
     "metadata": {},
     "output_type": "execute_result"
    }
   ],
   "source": [
    "np.mean(np.array(bmls[:-1]) - np.array(pmls[:-1]))"
   ]
  },
  {
   "cell_type": "code",
   "execution_count": 16,
   "id": "dfb3611a",
   "metadata": {},
   "outputs": [
    {
     "data": {
      "text/plain": [
       "array([0.16186255, 0.21560652, 0.25528724, 0.21909572, 0.23186744])"
      ]
     },
     "execution_count": 16,
     "metadata": {},
     "output_type": "execute_result"
    }
   ],
   "source": [
    "np.array(bmls[:-1]) - np.array(pmls[:-1])"
   ]
  },
  {
   "cell_type": "code",
   "execution_count": 17,
   "id": "65541b6c",
   "metadata": {},
   "outputs": [
    {
     "data": {
      "text/plain": [
       "array([-0.02954905, -0.00639638, -0.00021582, -0.00274694, -0.00522194])"
      ]
     },
     "execution_count": 17,
     "metadata": {},
     "output_type": "execute_result"
    }
   ],
   "source": [
    "np.array(bls[:-1]) - np.array(pmls[:-1])"
   ]
  },
  {
   "cell_type": "code",
   "execution_count": 18,
   "id": "0f197ca5",
   "metadata": {},
   "outputs": [
    {
     "data": {
      "text/plain": [
       "-0.008826027438044549"
      ]
     },
     "execution_count": 18,
     "metadata": {},
     "output_type": "execute_result"
    }
   ],
   "source": [
    "np.mean(np.array(bls[:-1]) - np.array(pmls[:-1]))"
   ]
  },
  {
   "cell_type": "markdown",
   "id": "973bfa0b",
   "metadata": {},
   "source": [
    "# Benchmark - multiple feature inputs of random amplitude"
   ]
  },
  {
   "cell_type": "code",
   "execution_count": 19,
   "id": "4537338d",
   "metadata": {},
   "outputs": [],
   "source": [
    "model = 'model3'\n",
    "# model='soft_dot_penalised_model'\n",
    "k = 1024 # size of nonlinear layer\n",
    "log2_batch_size = 13\n",
    "log2_training_steps = 18\n",
    "sample_kind = 'equal'\n",
    "init_bias = -1.0\n",
    "nonlinearity = 'ReLU'\n",
    "task = 'autoencoder'\n",
    "decay = 0.03\n",
    "eps = 0.015625\n",
    "m = 64 # input dimensions\n",
    "N = 512 # number of features\n",
    "reg = 0.0\n",
    "# lr = 0.001\n",
    "lrs = [0.001,0.003,0.005,0.007,0.01,0.03]"
   ]
  },
  {
   "cell_type": "code",
   "execution_count": 20,
   "id": "ff61bfbe",
   "metadata": {},
   "outputs": [
    {
     "name": "stdout",
     "output_type": "stream",
     "text": [
      "[0.001, 0.003, 0.005, 0.007, 0.01, 0.03]\n"
     ]
    }
   ],
   "source": [
    "print(lrs)\n",
    "\n",
    "# Load and process data\n",
    "names = list([\n",
    "    f\"../my_models/{model}_{task}_{nonlinearity}_k_{k}_batch_{log2_batch_size}_steps_{log2_training_steps}_learning_rate_{lr}_sample_{sample_kind}_init_bias_{init_bias}_decay_{decay}_eps_{eps}_m_{m}_N_{N}_reg_{reg}.pt\"\n",
    "    for lr in lrs\n",
    "])\n",
    "ReLU_equal_lr_sweep = []\n",
    "for n in names:\n",
    "    try:\n",
    "        ReLU_equal_lr_sweep.append(torch.load(n, map_location=torch.device('cpu')))\n",
    "    except FileNotFoundError:\n",
    "        print(n,'not found')"
   ]
  },
  {
   "cell_type": "code",
   "execution_count": 21,
   "id": "d5d240af",
   "metadata": {},
   "outputs": [],
   "source": [
    "btrials = []\n",
    "for i in range(5):\n",
    "    brs = []\n",
    "    bls = []\n",
    "    bmls = []\n",
    "    for batch in ReLU_equal_lr_sweep:\n",
    "        fixed_embedder = batch['setup']['fixed_embedder']\n",
    "        d = batch['log2_spaced_models'][-1]\n",
    "    \n",
    "        model = model_builder(d['2.weight'].shape[0], d['0.weight'].shape[1], d['0.weight'].shape[0], batch['nonlinearity'])\n",
    "        model.load_state_dict(batch['log2_spaced_models'][-1])\n",
    "        model.to('cpu')\n",
    "        \n",
    "        sfa = single_feature_activations(d, batch, batch['setup'])\n",
    "        unit_sfa = np.array(sfa > 0.0, dtype='int')\n",
    "    \n",
    "        where_poly = np.where(np.sum(unit_sfa, axis=-1) > 1)[0]\n",
    "        mono_d = deepcopy(batch['log2_spaced_models'][-1])\n",
    "        mono_d['0.weight'][where_poly, :] *= 0\n",
    "        mono_d['0.bias'][where_poly] *= 0\n",
    "        mono_model = model_builder(d['2.weight'].shape[0], d['0.weight'].shape[1],\n",
    "                                   d['0.weight'].shape[0], batch['nonlinearity'])\n",
    "        mono_model.load_state_dict(mono_d)\n",
    "        mono_model.to('cpu')\n",
    "    \n",
    "        where_mono = np.where(np.sum(unit_sfa, axis=-1) == 1)[0]\n",
    "        poly_d = deepcopy(batch['log2_spaced_models'][-1])\n",
    "        poly_d['0.weight'][where_mono, :] *= 0\n",
    "        poly_d['0.bias'][where_mono] *= 0\n",
    "        poly_model = model_builder(d['2.weight'].shape[0], d['0.weight'].shape[1],\n",
    "                                   d['0.weight'].shape[0], batch['nonlinearity'])\n",
    "        poly_model.load_state_dict(poly_d)\n",
    "        poly_model.to('cpu')\n",
    "        \n",
    "    #     full_os = []\n",
    "    #     mono_os = []\n",
    "    #     poly_os = []\n",
    "    #     step_size = .01\n",
    "    #     for a in np.arange(0, 1 + step_size, step_size):\n",
    "    #     vs = torch.eye(N)\n",
    "    #     vs = torch.eye(N) * a\n",
    "    #     ins = torch.matmul(vs, fixed_embedder.T)\n",
    "        vs, ins = sample_vectors_equal(N, eps, 2**log2_batch_size, fixed_embedder)\n",
    "    #         full_os.append(model.forward(ins).T.detach().numpy())\n",
    "    #         mono_os.append(mono_model.forward(ins).T.detach().numpy())\n",
    "    #         poly_os.append(poly_model.forward(ins).T.detach().numpy())\n",
    "        brs.append((model.forward(ins).detach().numpy(),\n",
    "                  mono_model.forward(ins).detach().numpy(),\n",
    "                  poly_model.forward(ins).detach().numpy()))\n",
    "        bls.append(loss_func(2**log2_batch_size, model.forward(ins).detach().numpy(), vs.detach().numpy()))\n",
    "        bmls.append(loss_func(2**log2_batch_size, mono_model.forward(ins).detach().numpy(), vs.detach().numpy()))\n",
    "    btrials.append((bls, bmls))"
   ]
  },
  {
   "cell_type": "code",
   "execution_count": 22,
   "id": "253f7eca",
   "metadata": {},
   "outputs": [
    {
     "data": {
      "text/plain": [
       "[0.8538400530815125,\n",
       " 0.8584007024765015,\n",
       " 0.8454532623291016,\n",
       " 0.8551192879676819,\n",
       " 0.8667556047439575,\n",
       " 0.8755663633346558]"
      ]
     },
     "execution_count": 22,
     "metadata": {},
     "output_type": "execute_result"
    }
   ],
   "source": [
    "bls"
   ]
  },
  {
   "cell_type": "code",
   "execution_count": 23,
   "id": "12a4935b",
   "metadata": {},
   "outputs": [
    {
     "data": {
      "text/plain": [
       "[1.3749494552612305,\n",
       " 1.4476873874664307,\n",
       " 1.5025246143341064,\n",
       " 1.4557846784591675,\n",
       " 1.4923856258392334,\n",
       " 1.3817063570022583]"
      ]
     },
     "execution_count": 23,
     "metadata": {},
     "output_type": "execute_result"
    }
   ],
   "source": [
    "bmls"
   ]
  },
  {
   "cell_type": "markdown",
   "id": "ab236b6e",
   "metadata": {},
   "source": [
    "# Penalised - multiple feature inputs of random amplitude"
   ]
  },
  {
   "cell_type": "code",
   "execution_count": 24,
   "id": "4573213a",
   "metadata": {},
   "outputs": [],
   "source": [
    "model = 'soft_dot_penalised_model'\n",
    "init_bias = 0.0\n",
    "decay = 0.0"
   ]
  },
  {
   "cell_type": "code",
   "execution_count": 25,
   "id": "1741056b",
   "metadata": {},
   "outputs": [
    {
     "name": "stdout",
     "output_type": "stream",
     "text": [
      "[0.001, 0.003, 0.005, 0.007, 0.01, 0.03]\n"
     ]
    }
   ],
   "source": [
    "print(lrs)\n",
    "\n",
    "# Load and process data\n",
    "names = list([\n",
    "    f\"../my_models/{model}_{task}_{nonlinearity}_k_{k}_batch_{log2_batch_size}_steps_{log2_training_steps}_learning_rate_{lr}_sample_{sample_kind}_init_bias_{init_bias}_decay_{decay}_eps_{eps}_m_{m}_N_{N}_reg_{reg}.pt\"\n",
    "    for lr in lrs\n",
    "])\n",
    "ReLU_equal_lr_sweep = []\n",
    "for n in names:\n",
    "    try:\n",
    "        ReLU_equal_lr_sweep.append(torch.load(n, map_location=torch.device('cpu')))\n",
    "    except FileNotFoundError:\n",
    "        print(n,'not found')"
   ]
  },
  {
   "cell_type": "code",
   "execution_count": 27,
   "id": "771d6c56",
   "metadata": {},
   "outputs": [],
   "source": [
    "ptrials = []\n",
    "for i in range(5):\n",
    "    pls = []\n",
    "    pmls = []\n",
    "    for batch in ReLU_equal_lr_sweep:\n",
    "        fixed_embedder = batch['setup']['fixed_embedder']\n",
    "        d = batch['log2_spaced_models'][-1]\n",
    "    \n",
    "        model = model_builder(d['2.weight'].shape[0], d['0.weight'].shape[1], d['0.weight'].shape[0], batch['nonlinearity'])\n",
    "        model.load_state_dict(batch['log2_spaced_models'][-1])\n",
    "        model.to('cpu')\n",
    "        \n",
    "        sfa = single_feature_activations(d, batch, batch['setup'])\n",
    "        unit_sfa = np.array(sfa > 0.0, dtype='int')\n",
    "    \n",
    "        where_poly = np.where(np.sum(unit_sfa, axis=-1) > 1)[0]\n",
    "        mono_d = deepcopy(batch['log2_spaced_models'][-1])\n",
    "        mono_d['0.weight'][where_poly, :] *= 0\n",
    "        mono_d['0.bias'][where_poly] *= 0\n",
    "        mono_model = model_builder(d['2.weight'].shape[0], d['0.weight'].shape[1],\n",
    "                                   d['0.weight'].shape[0], batch['nonlinearity'])\n",
    "        mono_model.load_state_dict(mono_d)\n",
    "        mono_model.to('cpu')\n",
    "        \n",
    "    #     vs = torch.eye(N)\n",
    "    #     ins = torch.matmul(vs, fixed_embedder.T)\n",
    "        vs, ins = sample_vectors_equal(N, eps, 2**log2_batch_size, fixed_embedder)\n",
    "        pls.append(loss_func(2**log2_batch_size, model.forward(ins).detach().numpy(), vs.detach().numpy()))\n",
    "        pmls.append(loss_func(2**log2_batch_size, mono_model.forward(ins).detach().numpy(), vs.detach().numpy()))\n",
    "    ptrials.append((pls, pmls))"
   ]
  },
  {
   "cell_type": "code",
   "execution_count": 28,
   "id": "beb5b12a",
   "metadata": {},
   "outputs": [
    {
     "data": {
      "text/plain": [
       "[0.9315526485443115,\n",
       " 0.9309137463569641,\n",
       " 0.943163275718689,\n",
       " 0.9541040658950806,\n",
       " 0.965944766998291,\n",
       " 2.679069757461548]"
      ]
     },
     "execution_count": 28,
     "metadata": {},
     "output_type": "execute_result"
    }
   ],
   "source": [
    "pls"
   ]
  },
  {
   "cell_type": "code",
   "execution_count": 29,
   "id": "59e5ea5a",
   "metadata": {},
   "outputs": [
    {
     "data": {
      "text/plain": [
       "[0.9315526485443115,\n",
       " 0.9309137463569641,\n",
       " 0.943163275718689,\n",
       " 0.9541040658950806,\n",
       " 0.965944766998291,\n",
       " 2.679069757461548]"
      ]
     },
     "execution_count": 29,
     "metadata": {},
     "output_type": "execute_result"
    }
   ],
   "source": [
    "pmls"
   ]
  },
  {
   "cell_type": "code",
   "execution_count": 30,
   "id": "23a36b91",
   "metadata": {},
   "outputs": [
    {
     "data": {
      "text/plain": [
       "0.5095306515693665"
      ]
     },
     "execution_count": 30,
     "metadata": {},
     "output_type": "execute_result"
    }
   ],
   "source": [
    "np.mean(np.array(bmls[:-1]) - np.array(pmls[:-1]))"
   ]
  },
  {
   "cell_type": "code",
   "execution_count": 31,
   "id": "9c495c12",
   "metadata": {},
   "outputs": [
    {
     "data": {
      "text/plain": [
       "array([0.44339681, 0.51677364, 0.55936134, 0.50168061, 0.52644086])"
      ]
     },
     "execution_count": 31,
     "metadata": {},
     "output_type": "execute_result"
    }
   ],
   "source": [
    "np.array(bmls[:-1]) - np.array(pmls[:-1])"
   ]
  },
  {
   "cell_type": "code",
   "execution_count": 32,
   "id": "306b65d6",
   "metadata": {},
   "outputs": [
    {
     "data": {
      "text/plain": [
       "array([-0.0777126 , -0.07251304, -0.09771001, -0.09898478, -0.09918916])"
      ]
     },
     "execution_count": 32,
     "metadata": {},
     "output_type": "execute_result"
    }
   ],
   "source": [
    "np.array(bls[:-1]) - np.array(pmls[:-1])"
   ]
  },
  {
   "cell_type": "code",
   "execution_count": 33,
   "id": "7ec65294",
   "metadata": {},
   "outputs": [
    {
     "data": {
      "text/plain": [
       "-0.08922191858291625"
      ]
     },
     "execution_count": 33,
     "metadata": {},
     "output_type": "execute_result"
    }
   ],
   "source": [
    "np.mean(np.array(bls[:-1]) - np.array(pmls[:-1]))"
   ]
  },
  {
   "cell_type": "code",
   "execution_count": 38,
   "id": "aba7a121",
   "metadata": {},
   "outputs": [
    {
     "name": "stdout",
     "output_type": "stream",
     "text": [
      "[0.07748225927352906, 0.09194588661193848, 0.08343621492385864, 0.08691940307617188, 0.08922191858291625]\n",
      "0.08580113649368286 0.07598129016652523 0.09562098282084049\n"
     ]
    }
   ],
   "source": [
    "diffs = []\n",
    "for i in range(5):\n",
    "    diffs.append(np.mean(np.array(ptrials[i][0][:-1]) - np.array(btrials[i][0][:-1])))\n",
    "print(diffs)\n",
    "print(np.mean(diffs), np.mean(diffs)-1.96*(np.std(diffs)), np.mean(diffs)+1.96*(np.std(diffs)))"
   ]
  },
  {
   "cell_type": "code",
   "execution_count": 36,
   "id": "b0d16ccc",
   "metadata": {},
   "outputs": [
    {
     "name": "stdout",
     "output_type": "stream",
     "text": [
      "[0.5276235222816468, 0.5088677406311035, 0.5212194085121155, 0.5151287674903869, 0.5095306515693665]\n",
      "0.5164740180969238 0.5024848987794084 0.5304631374144393\n"
     ]
    }
   ],
   "source": [
    "mdiffs = []\n",
    "for i in range(5):\n",
    "    mdiffs.append(np.mean(np.array(btrials[i][1][:-1]) - np.array(ptrials[i][1][:-1])))\n",
    "print(mdiffs)\n",
    "print(np.mean(mdiffs), np.mean(mdiffs)-1.96*(np.std(mdiffs)), np.mean(mdiffs)+1.96*(np.std(mdiffs)))"
   ]
  },
  {
   "cell_type": "markdown",
   "id": "7465635f",
   "metadata": {},
   "source": [
    "# Input visualisation"
   ]
  },
  {
   "cell_type": "code",
   "execution_count": 51,
   "id": "ca4efd99",
   "metadata": {},
   "outputs": [],
   "source": [
    "vs, ins = sample_vectors_equal(N, eps, 20, fixed_embedder)"
   ]
  },
  {
   "cell_type": "code",
   "execution_count": 52,
   "id": "d3f4126d",
   "metadata": {},
   "outputs": [
    {
     "name": "stdout",
     "output_type": "stream",
     "text": [
      "tensor([[0., 0., 0.,  ..., 0., 0., 0.],\n",
      "        [0., 0., 0.,  ..., 0., 0., 0.],\n",
      "        [0., 0., 0.,  ..., 0., 0., 0.],\n",
      "        ...,\n",
      "        [0., 0., 0.,  ..., 0., 0., 0.],\n",
      "        [0., 0., 0.,  ..., 0., 0., 0.],\n",
      "        [0., 0., 0.,  ..., 0., 0., 0.]])\n"
     ]
    }
   ],
   "source": [
    "print(vs)"
   ]
  },
  {
   "cell_type": "code",
   "execution_count": 53,
   "id": "e5771f2f",
   "metadata": {},
   "outputs": [
    {
     "data": {
      "image/png": "[encoded data removed]",
      "text/plain": [
       "<Figure size 1440x1440 with 1 Axes>"
      ]
     },
     "metadata": {
      "needs_background": "light"
     },
     "output_type": "display_data"
    }
   ],
   "source": [
    "plt.figure(figsize=(20,20))\n",
    "plt.imshow(vs)\n",
    "plt.axis('off')\n",
    "plt.show()"
   ]
  },
  {
   "cell_type": "code",
   "execution_count": 61,
   "id": "acffeaa7",
   "metadata": {},
   "outputs": [
    {
     "name": "stdout",
     "output_type": "stream",
     "text": [
      "[0.9921875  0.98242188 0.98632812 0.9921875  0.99023438 0.98046875\n",
      " 0.98046875 0.97460938 0.99414062 0.98632812 0.97460938 0.98828125\n",
      " 0.98046875 0.98828125 0.98242188 0.99414062 0.984375   0.98242188\n",
      " 0.98828125 0.98632812]\n"
     ]
    }
   ],
   "source": [
    "print(1 - np.sum(vs.detach().numpy() > 0, axis=1)/N)"
   ]
  },
  {
   "cell_type": "code",
   "execution_count": 54,
   "id": "44bdf9d0",
   "metadata": {},
   "outputs": [
    {
     "data": {
      "image/png": "[encoded data removed]",
      "text/plain": [
       "<Figure size 1440x1440 with 1 Axes>"
      ]
     },
     "metadata": {
      "needs_background": "light"
     },
     "output_type": "display_data"
    }
   ],
   "source": [
    "plt.figure(figsize=(20,20))\n",
    "plt.imshow(ins)\n",
    "plt.axis('off')\n",
    "plt.show()"
   ]
  },
  {
   "cell_type": "code",
   "execution_count": null,
   "id": "5d762d05",
   "metadata": {},
   "outputs": [],
   "source": []
  }
 ],
 "metadata": {
  "kernelspec": {
   "display_name": "Python 3 (ipykernel)",
   "language": "python",
   "name": "python3"
  },
  "language_info": {
   "codemirror_mode": {
    "name": "ipython",
    "version": 3
   },
   "file_extension": ".py",
   "mimetype": "text/x-python",
   "name": "python",
   "nbconvert_exporter": "python",
   "pygments_lexer": "ipython3",
   "version": "3.10.12"
  }
 },
 "nbformat": 4,
 "nbformat_minor": 5
}
